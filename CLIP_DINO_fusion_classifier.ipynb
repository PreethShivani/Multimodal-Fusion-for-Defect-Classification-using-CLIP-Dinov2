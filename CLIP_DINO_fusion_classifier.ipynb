{
  "nbformat": 4,
  "nbformat_minor": 0,
  "metadata": {
    "colab": {
      "provenance": []
    },
    "kernelspec": {
      "name": "python3",
      "display_name": "Python 3"
    },
    "language_info": {
      "name": "python"
    }
  },
  "cells": [
    {
      "cell_type": "code",
      "execution_count": 9,
      "metadata": {
        "colab": {
          "base_uri": "https://localhost:8080/"
        },
        "id": "aKgmMWKP-ck5",
        "outputId": "65dc30e5-6511-466d-fd7f-956d276b0a22"
      },
      "outputs": [
        {
          "output_type": "stream",
          "name": "stdout",
          "text": [
            "  % Total    % Received % Xferd  Average Speed   Time    Time     Time  Current\n",
            "                                 Dload  Upload   Total   Spent    Left  Speed\n",
            "100  548M  100  548M    0     0  17.0M      0  0:00:32  0:00:32 --:--:-- 18.4M\n",
            "tar: Removing leading `/' from member names\n",
            "test/img/cable_bent_wire_000.png\n",
            "test/img/cable_bent_wire_001.png\n",
            "test/img/cable_bent_wire_002.png\n",
            "test/img/cable_bent_wire_003.png\n",
            "test/img/cable_bent_wire_004.png\n",
            "test/img/cable_bent_wire_006.png\n",
            "test/img/cable_bent_wire_007.png\n",
            "test/img/cable_bent_wire_008.png\n",
            "test/img/cable_bent_wire_009.png\n",
            "test/img/cable_bent_wire_012.png\n",
            "test/img/cable_cable_swap_000.png\n",
            "test/img/cable_cable_swap_001.png\n",
            "test/img/cable_cable_swap_002.png\n",
            "test/img/cable_cable_swap_004.png\n",
            "test/img/cable_cable_swap_005.png\n",
            "test/img/cable_cable_swap_007.png\n",
            "test/img/cable_cable_swap_008.png\n",
            "test/img/cable_cable_swap_009.png\n",
            "test/img/cable_cable_swap_010.png\n",
            "test/img/cable_cable_swap_011.png\n",
            "test/img/cable_combined_008.png\n",
            "test/img/cable_combined_010.png\n",
            "test/img/cable_cut_inner_insulation_000.png\n",
            "test/img/cable_cut_inner_insulation_002.png\n",
            "test/img/cable_cut_inner_insulation_003.png\n",
            "test/img/cable_cut_inner_insulation_005.png\n",
            "test/img/cable_cut_inner_insulation_006.png\n",
            "test/img/cable_cut_inner_insulation_009.png\n",
            "test/img/cable_cut_inner_insulation_010.png\n",
            "test/img/cable_cut_inner_insulation_011.png\n",
            "test/img/cable_cut_inner_insulation_012.png\n",
            "test/img/cable_cut_inner_insulation_013.png\n",
            "test/img/cable_cut_outer_insulation_000.png\n",
            "test/img/cable_cut_outer_insulation_001.png\n",
            "test/img/cable_cut_outer_insulation_002.png\n",
            "test/img/cable_cut_outer_insulation_003.png\n",
            "test/img/cable_cut_outer_insulation_004.png\n",
            "test/img/cable_cut_outer_insulation_005.png\n",
            "test/img/cable_cut_outer_insulation_006.png\n",
            "test/img/cable_cut_outer_insulation_007.png\n",
            "test/img/cable_cut_outer_insulation_008.png\n",
            "test/img/cable_cut_outer_insulation_009.png\n",
            "test/img/cable_good_023.png\n",
            "test/img/cable_good_039.png\n",
            "test/img/cable_good_053.png\n",
            "test/img/cable_missing_cable_000.png\n",
            "test/img/cable_missing_cable_001.png\n",
            "test/img/cable_missing_cable_002.png\n",
            "test/img/cable_missing_cable_005.png\n",
            "test/img/cable_missing_cable_006.png\n",
            "test/img/cable_missing_cable_007.png\n",
            "test/img/cable_missing_cable_008.png\n",
            "test/img/cable_missing_cable_009.png\n",
            "test/img/cable_missing_cable_010.png\n",
            "test/img/cable_missing_cable_011.png\n",
            "test/img/cable_missing_wire_000.png\n",
            "test/img/cable_missing_wire_001.png\n",
            "test/img/cable_missing_wire_002.png\n",
            "test/img/cable_missing_wire_003.png\n",
            "test/img/cable_missing_wire_004.png\n",
            "test/img/cable_missing_wire_005.png\n",
            "test/img/cable_missing_wire_006.png\n",
            "test/img/cable_missing_wire_007.png\n",
            "test/img/cable_missing_wire_008.png\n",
            "test/img/cable_missing_wire_009.png\n",
            "test/img/cable_poke_insulation_000.png\n",
            "test/img/cable_poke_insulation_001.png\n",
            "test/img/cable_poke_insulation_002.png\n",
            "test/img/cable_poke_insulation_003.png\n",
            "test/img/cable_poke_insulation_004.png\n",
            "test/img/cable_poke_insulation_005.png\n",
            "test/img/cable_poke_insulation_006.png\n",
            "test/img/cable_poke_insulation_007.png\n",
            "test/img/cable_poke_insulation_008.png\n",
            "test/img/cable_poke_insulation_009.png\n"
          ]
        }
      ],
      "source": [
        "#@title Download the MVTec dataset sample from Supervisely\n",
        "!curl https://assets.supervisely.com/supervisely-supervisely-assets-public/teams_storage/W/6/pt/ANAGVgKaC62tTrDQWK5JhNP2dd8ynqaTKSM1QdVoAasmTdaLvBwCuW7nCrq9o9lLS2padKnV9QogVGFlEPg7vxEBPIfuFC2Yq7ELNW7xn2t1egLrQPoGpNFJobhh.tar --output mvtec.tar\n",
        "\n",
        "#@title Extract and list cable images\n",
        "!tar -xf mvtec.tar\n",
        "!ls test/img/cable_*\n"
      ]
    },
    {
      "cell_type": "code",
      "source": [
        "# Remove the existing repo folder if it’s half-broken\n",
        "!rm -rf ZS-CLIP-AC-naive\n",
        "\n",
        "# Clone again cleanly\n",
        "!git clone https://github.com/akridata-ai/ZS-CLIP-AC-naive.git\n",
        "\n",
        "# Move into the repo\n",
        "%cd ZS-CLIP-AC-naive\n",
        "\n",
        "# Checkout the branch\n",
        "!git checkout -b feature/template-code origin/feature/template-code\n",
        "\n"
      ],
      "metadata": {
        "colab": {
          "base_uri": "https://localhost:8080/"
        },
        "id": "4Eq36neN-eD4",
        "outputId": "2880d6ef-6f0b-44ec-ce65-a008150c28d1"
      },
      "execution_count": 10,
      "outputs": [
        {
          "output_type": "stream",
          "name": "stdout",
          "text": [
            "Cloning into 'ZS-CLIP-AC-naive'...\n",
            "remote: Enumerating objects: 16, done.\u001b[K\n",
            "remote: Counting objects: 100% (16/16), done.\u001b[K\n",
            "remote: Compressing objects: 100% (14/14), done.\u001b[K\n",
            "remote: Total 16 (delta 2), reused 13 (delta 0), pack-reused 0 (from 0)\u001b[K\n",
            "Receiving objects: 100% (16/16), done.\n",
            "Resolving deltas: 100% (2/2), done.\n",
            "/content/ZS-CLIP-AC-naive/ZS-CLIP-AC-naive\n",
            "Branch 'feature/template-code' set up to track remote branch 'feature/template-code' from 'origin'.\n",
            "Switched to a new branch 'feature/template-code'\n"
          ]
        }
      ]
    },
    {
      "cell_type": "code",
      "source": [
        "#@title Move cable images into repo's data folder\n",
        "!cp /content/test/img/cable_* data/\n"
      ],
      "metadata": {
        "id": "mPgkMBli-eGv"
      },
      "execution_count": 11,
      "outputs": []
    },
    {
      "cell_type": "code",
      "source": [
        "#@title Install dependencies\n",
        "!pip install -qr requirements.txt\n"
      ],
      "metadata": {
        "colab": {
          "base_uri": "https://localhost:8080/"
        },
        "id": "T-G0REZ--eJW",
        "outputId": "4fca4b10-2938-44c2-f922-b5d6765dc53b"
      },
      "execution_count": 12,
      "outputs": [
        {
          "output_type": "stream",
          "name": "stdout",
          "text": [
            "  Preparing metadata (setup.py) ... \u001b[?25l\u001b[?25hdone\n"
          ]
        }
      ]
    },
    {
      "cell_type": "code",
      "source": [
        "#@title Save cable-specific spec.py\n",
        "%%writefile spec.py\n",
        "\"\"\"\n",
        "Spec containing the configuration for the defect classification task\n",
        "\"\"\"\n",
        "from pydantic import BaseModel\n",
        "\n",
        "\n",
        "class DefectClassificationSpec(BaseModel):\n",
        "    model_name: str = \"ViT-B/32\"\n",
        "    use_dino: bool = True\n",
        "    fusion_mode: str = \"concat\"\n",
        "    alpha: float = 0.7\n",
        "    class_names: list[str] = [\n",
        "        \"good\",\n",
        "        \"bent_wire\",\n",
        "        \"cable_swap\",\n",
        "        \"combined\",\n",
        "        \"cut_inner_insulation\",\n",
        "        \"cut_outer_insulation\",\n",
        "        \"missing_cable\",\n",
        "        \"missing_wire\",\n",
        "        \"poke_insulation\"\n",
        "    ]\n",
        "    prompts: list[list[str]] = [\n",
        "        # good\n",
        "        [\n",
        "          \"a photo of an intact electrical cable with no defects, no cuts, no missing wires, outer insulation smooth\",\n",
        "          \"an undamaged cable: correct wiring order, insulation unbroken, no bends or punctures\",\n",
        "          \"clean cable with proper connector mapping, no swapped wires, no damage\",\n",
        "          \"normal cable in good condition, all wires present, insulation intact, no visible anomalies\",\n",
        "          \"pristine cable: no cracks, no holes, no cuts, no miswiring\",\n",
        "          \"factory-new cable with correct pin order and continuous insulation\"\n",
        "        ],\n",
        "\n",
        "        #bent_wire\n",
        "        [\"A cable with a wire bent out of shape\",\n",
        "         \"A cable showing bent or distorted wire\"],\n",
        "\n",
        "        # cable_swap\n",
        "        [\n",
        "          \"a photo of a miswired cable: wires swapped at the connector, wrong pin order\",\n",
        "          \"cable with swapped connections: two wires crossed to the wrong terminals\",\n",
        "          \"connector with incorrect wiring sequence, wires interchanged (cable swap defect)\",\n",
        "          \"cable showing cross-connected leads, wrong color order at the plug\",\n",
        "          \"misconnection at the connector: wire positions exchanged, mapping incorrect\",\n",
        "          \"wires routed to wrong pins (swapped wiring) at the cable head\",\n",
        "          \"defect: swapped wires at connector, incorrect pinout\"\n",
        "        ],\n",
        "\n",
        "        # combined\n",
        "        [\n",
        "          \"a photo of a cable with multiple defects at once (e.g., cut insulation and missing wire)\",\n",
        "          \"cable showing combined anomalies: miswiring plus damaged insulation\",\n",
        "          \"multiple simultaneous defects on one cable: missing conductor and outer cut\",\n",
        "          \"compound cable defect with both structural damage and wiring error\",\n",
        "          \"cable exhibiting more than one defect category in the same sample\",\n",
        "          \"mixed defects: punctured insulation together with swapped wiring\",\n",
        "          \"combined cable defect: two or more distinct problems visible\"\n",
        "        ],\n",
        "\n",
        "        #cut_inner_insulation\n",
        "        [\"A cable with its inner insulation cut or sliced\",\n",
        "         \"Cable showing damage to the inner insulation layer\"],\n",
        "\n",
        "        #cut_outer_insulation\n",
        "        [\"A cable with outer insulation cut\",\n",
        "         \"Cable showing slice or tear on the outer insulation\"],\n",
        "\n",
        "        #missing_cable\n",
        "        [\"A cable missing an entire wire bundle\",\n",
        "         \"A cable with an absent main cable section\"],\n",
        "\n",
        "        #missing_wire\n",
        "        [\"A cable missing a single wire\",\n",
        "         \"A cable with one or more wires removed\"],\n",
        "\n",
        "        # poke_insulation\n",
        "        [\n",
        "          \"a cable with a small round hole punctured through the insulation\",\n",
        "          \"cable showing a sharp object poke defect in its insulation layer\",\n",
        "          \"wire insulation with a visible puncture or small localized hole\",\n",
        "          \"defect: insulation pierced but wire remains intact, not cut or missing\",\n",
        "          \"close-up of a cable with poke damage, tiny hole or indentation in the sheath\",\n",
        "          \"cable surface pierced with a sharp mark, unlike long cuts\",\n",
        "          \"small puncture defect in cable insulation, insulation broken at a point\"\n",
        "        ]\n",
        "\n",
        "  ]\n"
      ],
      "metadata": {
        "colab": {
          "base_uri": "https://localhost:8080/"
        },
        "id": "NM0eL1jE-eL9",
        "outputId": "087d797a-60af-446a-ad5e-138c7e01a82e"
      },
      "execution_count": 13,
      "outputs": [
        {
          "output_type": "stream",
          "name": "stdout",
          "text": [
            "Overwriting spec.py\n"
          ]
        }
      ]
    },
    {
      "cell_type": "code",
      "source": [
        "#@title Save updated clip_ac.py\n",
        "%%writefile clip_ac.py\n",
        "\"\"\"\n",
        "Zero-shot defect classification using CLIP\n",
        "\"\"\"\n",
        "\n",
        "import clip\n",
        "import torch\n",
        "from PIL import Image\n",
        "from pathlib import Path\n",
        "from spec import DefectClassificationSpec\n",
        "import torchvision.transforms as T\n",
        "import torch.nn.functional as F\n",
        "\n",
        "# Load DINOv2 globally (avoid reloading for every image)\n",
        "dino_model = torch.hub.load('facebookresearch/dinov2', 'dinov2_vits14')\n",
        "dino_model.eval()\n",
        "dino_preprocess = T.Compose([\n",
        "    T.Resize(224, interpolation=T.InterpolationMode.BICUBIC),\n",
        "    T.CenterCrop(224),\n",
        "    T.ToTensor(),\n",
        "    T.Normalize(mean=[0.485, 0.456, 0.406],\n",
        "                std=[0.229, 0.224, 0.225]),\n",
        "])\n",
        "\n",
        "def classify_defects(test_dir, spec, return_paths=False):\n",
        "    device = \"cuda\" if torch.cuda.is_available() else \"cpu\"\n",
        "    model, preprocess = clip.load(spec.model_name, device=device)\n",
        "\n",
        "    test_dir = Path(test_dir)\n",
        "    img_paths = sorted(test_dir.glob(\"cable_*.png\"))   # cable dataset\n",
        "\n",
        "    y_true, y_pred, file_paths = [], [], []\n",
        "\n",
        "    # Precompute text features\n",
        "    text_features = []\n",
        "    with torch.no_grad():\n",
        "        for prompts in spec.prompts:\n",
        "            tokens = clip.tokenize(prompts).to(device)\n",
        "            encodings = model.encode_text(tokens)\n",
        "            encodings = encodings / encodings.norm(dim=-1, keepdim=True)\n",
        "            mean_encoding = encodings.mean(dim=0)\n",
        "            mean_encoding = mean_encoding / mean_encoding.norm()\n",
        "            text_features.append(mean_encoding)\n",
        "    text_features = torch.stack(text_features).to(device)\n",
        "\n",
        "    # Iterate images\n",
        "    with torch.no_grad():\n",
        "        for img_path in img_paths:\n",
        "            label = next((cls for cls in spec.class_names if cls in img_path.stem), None)\n",
        "            if label is None:\n",
        "                continue\n",
        "            img = Image.open(img_path).convert(\"RGB\")\n",
        "\n",
        "            # CLIP embedding\n",
        "            clip_input = preprocess(img).unsqueeze(0).to(device)\n",
        "            clip_features = model.encode_image(clip_input)\n",
        "            clip_features = clip_features / clip_features.norm(dim=-1, keepdim=True)\n",
        "\n",
        "            # DINOv2 embedding\n",
        "            dino_input = dino_preprocess(img).unsqueeze(0)\n",
        "            dino_features = dino_model(dino_input).detach()\n",
        "            dino_features = dino_features / dino_features.norm(dim=-1, keepdim=True)\n",
        "\n",
        "            # Fusion\n",
        "            if spec.use_dino and spec.fusion_mode == \"weighted\":\n",
        "                sim_clip = (clip_features @ text_features.T)\n",
        "                dino_confidence = torch.norm(dino_features).item()\n",
        "                sim = spec.alpha * sim_clip + (1 - spec.alpha) * (dino_confidence * sim_clip)\n",
        "\n",
        "            elif spec.use_dino and spec.fusion_mode == \"concat\":\n",
        "                fused_features = torch.cat([clip_features, dino_features.to(device)], dim=-1)\n",
        "                fused_features = F.normalize(fused_features, dim=-1)\n",
        "\n",
        "                expanded_text_features = []\n",
        "                for tf in text_features:\n",
        "                    pad = torch.zeros(dino_features.shape[-1], device=device)\n",
        "                    expanded_text_features.append(torch.cat([tf, pad], dim=-1))\n",
        "                expanded_text_features = torch.stack(expanded_text_features)\n",
        "                expanded_text_features = F.normalize(expanded_text_features, dim=-1)\n",
        "\n",
        "                sim = fused_features @ expanded_text_features.T\n",
        "\n",
        "            else:\n",
        "                sim = (clip_features @ text_features.T)\n",
        "\n",
        "            pred_idx = sim.argmax(dim=-1).item()\n",
        "            pred_label = spec.class_names[pred_idx]\n",
        "\n",
        "            y_true.append(label)\n",
        "            y_pred.append(pred_label)\n",
        "            file_paths.append(str(img_path))\n",
        "\n",
        "    if return_paths:\n",
        "        return y_true, y_pred, file_paths\n",
        "    else:\n",
        "        return y_true, y_pred\n"
      ],
      "metadata": {
        "colab": {
          "base_uri": "https://localhost:8080/"
        },
        "id": "FeTlVDUg-eOm",
        "outputId": "da1372d4-3f91-4a16-9f83-c5d15dfc66bd"
      },
      "execution_count": 14,
      "outputs": [
        {
          "output_type": "stream",
          "name": "stdout",
          "text": [
            "Overwriting clip_ac.py\n"
          ]
        }
      ]
    },
    {
      "cell_type": "code",
      "source": [
        "!pip install -q git+https://github.com/openai/CLIP.git\n"
      ],
      "metadata": {
        "colab": {
          "base_uri": "https://localhost:8080/"
        },
        "id": "OXQqBEhz_ojd",
        "outputId": "1796e013-4a27-421e-b3ed-99d96da7a462"
      },
      "execution_count": 15,
      "outputs": [
        {
          "output_type": "stream",
          "name": "stdout",
          "text": [
            "  Preparing metadata (setup.py) ... \u001b[?25l\u001b[?25hdone\n"
          ]
        }
      ]
    },
    {
      "cell_type": "code",
      "source": [
        "# -----------------------------\n",
        "# CLIP + DINOv2 Fusion Features + Logistic Regression (with Cross-validation)\n",
        "# -----------------------------\n",
        "\n",
        "from spec import DefectClassificationSpec\n",
        "from clip_ac import dino_model, dino_preprocess\n",
        "import clip\n",
        "import numpy as np\n",
        "import torch\n",
        "from pathlib import Path\n",
        "from PIL import Image\n",
        "\n",
        "device = \"cuda\" if torch.cuda.is_available() else \"cpu\"\n",
        "clip_model, clip_preprocess = clip.load(\"ViT-B/32\", device=device)\n",
        "\n",
        "def extract_clip_dino_embeddings(test_dir, spec):\n",
        "    test_dir = Path(test_dir)\n",
        "    img_paths = sorted(test_dir.glob(\"cable_*.png\"))\n",
        "\n",
        "    X, y, paths = [], [], []\n",
        "    with torch.no_grad():\n",
        "        for img_path in img_paths:\n",
        "            # robust label parsing: match the full class name in the filename\n",
        "            label = next((cls for cls in spec.class_names if cls in img_path.stem), None)\n",
        "            if label is None:\n",
        "                continue\n",
        "\n",
        "            img = Image.open(img_path).convert(\"RGB\")\n",
        "\n",
        "            # CLIP embedding\n",
        "            clip_input = clip_preprocess(img).unsqueeze(0).to(device)\n",
        "            clip_features = clip_model.encode_image(clip_input)\n",
        "            clip_features = clip_features / clip_features.norm(dim=-1, keepdim=True)\n",
        "            clip_features = clip_features.cpu().numpy().flatten()\n",
        "\n",
        "            # DINO embedding\n",
        "            dino_input = dino_preprocess(img).unsqueeze(0)\n",
        "            dino_features = dino_model(dino_input).detach()\n",
        "            dino_features = dino_features / dino_features.norm(dim=-1, keepdim=True)\n",
        "            dino_features = dino_features.cpu().numpy().flatten()\n",
        "\n",
        "            # Fusion\n",
        "            fused_features = np.concatenate([clip_features, dino_features])\n",
        "\n",
        "            X.append(fused_features)\n",
        "            y.append(label)\n",
        "            paths.append(str(img_path))\n",
        "\n",
        "    return np.array(X), np.array(y), paths\n",
        "\n",
        "\n",
        "# ---- Train Logistic Regression on fused features ----\n",
        "from sklearn.pipeline import make_pipeline\n",
        "from sklearn.preprocessing import StandardScaler\n",
        "from sklearn.linear_model import LogisticRegression\n",
        "from sklearn.metrics import classification_report, confusion_matrix, ConfusionMatrixDisplay\n",
        "from sklearn.model_selection import cross_val_predict, StratifiedKFold\n",
        "import matplotlib.pyplot as plt\n",
        "\n",
        "spec = DefectClassificationSpec()\n",
        "X_fused, y_fused, paths_fused = extract_clip_dino_embeddings(\"data\", spec)\n",
        "\n",
        "# scaler + multinomial LR tends to work best here\n",
        "clf_fused = make_pipeline(\n",
        "    StandardScaler(with_mean=True, with_std=True),\n",
        "    LogisticRegression(\n",
        "        max_iter=2000,\n",
        "        multi_class=\"multinomial\",\n",
        "        solver=\"lbfgs\",\n",
        "        n_jobs=None\n",
        "    )\n",
        ")\n",
        "\n",
        "# use reproducible, stratified CV (min class size >= 3 → cv=3 is valid)\n",
        "cv = StratifiedKFold(n_splits=3, shuffle=True, random_state=42)\n",
        "y_pred_fused = cross_val_predict(clf_fused, X_fused, y_fused, cv=cv)\n",
        "\n",
        "print(\"CLIP + DINOv2 Logistic Regression Report (3-fold CV):\")\n",
        "print(classification_report(y_fused, y_pred_fused, zero_division=0))\n",
        "\n",
        "cm = confusion_matrix(y_fused, y_pred_fused, labels=spec.class_names)\n",
        "fig, ax = plt.subplots(figsize=(12, 10))\n",
        "disp = ConfusionMatrixDisplay(confusion_matrix=cm, display_labels=spec.class_names)\n",
        "disp.plot(cmap=\"Purples\", ax=ax, xticks_rotation=45, colorbar=False)\n",
        "ax.set_title(\"Confusion Matrix — CLIP + DINOv2 + Logistic Regression (3-fold CV)\")\n",
        "plt.tight_layout()\n",
        "plt.show()\n"
      ],
      "metadata": {
        "colab": {
          "base_uri": "https://localhost:8080/",
          "height": 1000
        },
        "id": "oTwpreo9-0HV",
        "outputId": "b5dc4e47-dedc-40f7-f73b-1c31da31b8ea"
      },
      "execution_count": 16,
      "outputs": [
        {
          "output_type": "stream",
          "name": "stdout",
          "text": [
            "Downloading: \"https://github.com/facebookresearch/dinov2/zipball/main\" to /root/.cache/torch/hub/main.zip\n"
          ]
        },
        {
          "output_type": "stream",
          "name": "stderr",
          "text": [
            "/root/.cache/torch/hub/facebookresearch_dinov2_main/dinov2/layers/swiglu_ffn.py:51: UserWarning: xFormers is not available (SwiGLU)\n",
            "  warnings.warn(\"xFormers is not available (SwiGLU)\")\n",
            "/root/.cache/torch/hub/facebookresearch_dinov2_main/dinov2/layers/attention.py:33: UserWarning: xFormers is not available (Attention)\n",
            "  warnings.warn(\"xFormers is not available (Attention)\")\n",
            "/root/.cache/torch/hub/facebookresearch_dinov2_main/dinov2/layers/block.py:40: UserWarning: xFormers is not available (Block)\n",
            "  warnings.warn(\"xFormers is not available (Block)\")\n"
          ]
        },
        {
          "output_type": "stream",
          "name": "stdout",
          "text": [
            "Downloading: \"https://dl.fbaipublicfiles.com/dinov2/dinov2_vits14/dinov2_vits14_pretrain.pth\" to /root/.cache/torch/hub/checkpoints/dinov2_vits14_pretrain.pth\n"
          ]
        },
        {
          "output_type": "stream",
          "name": "stderr",
          "text": [
            "100%|██████████| 84.2M/84.2M [00:00<00:00, 303MB/s]\n",
            "100%|███████████████████████████████████████| 338M/338M [00:10<00:00, 32.6MiB/s]\n",
            "/usr/local/lib/python3.12/dist-packages/sklearn/model_selection/_split.py:805: UserWarning: The least populated class in y has only 2 members, which is less than n_splits=3.\n",
            "  warnings.warn(\n",
            "/usr/local/lib/python3.12/dist-packages/sklearn/linear_model/_logistic.py:1247: FutureWarning: 'multi_class' was deprecated in version 1.5 and will be removed in 1.7. From then on, it will always use 'multinomial'. Leave it to its default value to avoid this warning.\n",
            "  warnings.warn(\n",
            "/usr/local/lib/python3.12/dist-packages/sklearn/linear_model/_logistic.py:1247: FutureWarning: 'multi_class' was deprecated in version 1.5 and will be removed in 1.7. From then on, it will always use 'multinomial'. Leave it to its default value to avoid this warning.\n",
            "  warnings.warn(\n",
            "/usr/local/lib/python3.12/dist-packages/sklearn/linear_model/_logistic.py:1247: FutureWarning: 'multi_class' was deprecated in version 1.5 and will be removed in 1.7. From then on, it will always use 'multinomial'. Leave it to its default value to avoid this warning.\n",
            "  warnings.warn(\n"
          ]
        },
        {
          "output_type": "stream",
          "name": "stdout",
          "text": [
            "CLIP + DINOv2 Logistic Regression Report (3-fold CV):\n",
            "                      precision    recall  f1-score   support\n",
            "\n",
            "           bent_wire       0.80      0.80      0.80        10\n",
            "          cable_swap       0.78      0.70      0.74        10\n",
            "            combined       0.00      0.00      0.00         2\n",
            "cut_inner_insulation       0.73      0.80      0.76        10\n",
            "cut_outer_insulation       0.64      0.90      0.75        10\n",
            "                good       0.00      0.00      0.00         3\n",
            "       missing_cable       0.89      0.80      0.84        10\n",
            "        missing_wire       0.90      0.90      0.90        10\n",
            "     poke_insulation       0.73      0.80      0.76        10\n",
            "\n",
            "            accuracy                           0.76        75\n",
            "           macro avg       0.61      0.63      0.62        75\n",
            "        weighted avg       0.73      0.76      0.74        75\n",
            "\n"
          ]
        },
        {
          "output_type": "display_data",
          "data": {
            "text/plain": [
              "<Figure size 1200x1000 with 1 Axes>"
            ],
            "image/png": "[encoded data removed]"
          },
          "metadata": {}
        }
      ]
    },
    {
      "cell_type": "code",
      "source": [],
      "metadata": {
        "id": "kX_NVVcu-0KQ"
      },
      "execution_count": 16,
      "outputs": []
    },
    {
      "cell_type": "code",
      "source": [],
      "metadata": {
        "id": "Vxbnn-nX-0Pw"
      },
      "execution_count": 16,
      "outputs": []
    },
    {
      "cell_type": "code",
      "source": [],
      "metadata": {
        "id": "pVlHq2aU-0Sn"
      },
      "execution_count": 16,
      "outputs": []
    }
  ]
}